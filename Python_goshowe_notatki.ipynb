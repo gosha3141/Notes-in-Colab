{
  "nbformat": 4,
  "nbformat_minor": 0,
  "metadata": {
    "colab": {
      "provenance": [],
      "authorship_tag": "ABX9TyMT+DtfVYfoE2QJoj+t1sr9",
      "include_colab_link": true
    },
    "kernelspec": {
      "name": "python3",
      "display_name": "Python 3"
    },
    "language_info": {
      "name": "python"
    }
  },
  "cells": [
    {
      "cell_type": "markdown",
      "metadata": {
        "id": "view-in-github",
        "colab_type": "text"
      },
      "source": [
        "<a href=\"https://colab.research.google.com/github/gosha3141/Notes-in-Colab/blob/main/Python_goshowe_notatki.ipynb\" target=\"_parent\"><img src=\"https://colab.research.google.com/assets/colab-badge.svg\" alt=\"Open In Colab\"/></a>"
      ]
    },
    {
      "cell_type": "markdown",
      "source": [
        "## Python - goshowe notatki"
      ],
      "metadata": {
        "id": "F1Itl6pJuTC1"
      }
    },
    {
      "cell_type": "code",
      "execution_count": null,
      "metadata": {
        "id": "XMLgIcgSuOHG"
      },
      "outputs": [],
      "source": []
    },
    {
      "cell_type": "markdown",
      "source": [
        "lalalala"
      ],
      "metadata": {
        "id": "TJtFjCOUup7_"
      }
    },
    {
      "cell_type": "code",
      "source": [],
      "metadata": {
        "id": "RtHa-E-OurDX"
      },
      "execution_count": null,
      "outputs": []
    }
  ]
}